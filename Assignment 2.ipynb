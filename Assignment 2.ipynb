{
 "cells": [
  {
   "cell_type": "markdown",
   "metadata": {},
   "source": [
    "1.What are the two values of the Boolean data type? How do you write them?"
   ]
  },
  {
   "cell_type": "markdown",
   "metadata": {},
   "source": [
    "Boolean can be defined by typing True/False without quotes.A variable of the primitive data type boolean can have two values: true and false.\n",
    "Boolean expressions use relational and logical operators. The result of a Boolean expression is either true or false."
   ]
  },
  {
   "cell_type": "code",
   "execution_count": 1,
   "metadata": {},
   "outputs": [
    {
     "data": {
      "text/plain": [
       "bool"
      ]
     },
     "execution_count": 1,
     "metadata": {},
     "output_type": "execute_result"
    }
   ],
   "source": [
    "a1 = True\n",
    "a2 = False\n",
    "\n",
    "type(a1)\n",
    "type(a2)"
   ]
  },
  {
   "cell_type": "markdown",
   "metadata": {},
   "source": [
    "2. What are the three different types of Boolean operators?"
   ]
  },
  {
   "cell_type": "markdown",
   "metadata": {},
   "source": [
    "ANSWER -Boolean expressions are created majorly with the keywords and, or, not. Boolean operators may be used with any integer,float and double types. Boolean operators behave differently depending on the data type of the argument:\n",
    "\n",
    "1. When operating on integer arguments (byte, int, long, etc.), Boolean operators perform bit-wise operations. That is, each bit in the argument(s) is operated on in turn.\n",
    "2. When operating on floating-point arguments (float, double), Boolean operators return true or false."
   ]
  },
  {
   "cell_type": "code",
   "execution_count": 2,
   "metadata": {},
   "outputs": [
    {
     "name": "stdout",
     "output_type": "stream",
     "text": [
      "0\n",
      "True\n",
      "True\n",
      "True\n",
      "30.5\n",
      "False\n",
      "False\n"
     ]
    }
   ],
   "source": [
    "d= 0 and 40\n",
    "print(d)\n",
    "a = True and True\n",
    "print(a)\n",
    "b= True or False\n",
    "print(b)\n",
    "c = True and True\n",
    "print(c)\n",
    "e = 40.6 and 30.5\n",
    "print(e)\n",
    "f= not True\n",
    "print(f)\n",
    "g= 'a' is 'b'\n",
    "print(g)"
   ]
  },
  {
   "cell_type": "markdown",
   "metadata": {},
   "source": [
    "3.Make a list of each Boolean operator's truth tables (i.e. every possible combination of Boolean\n",
    "values for the operator and what it evaluate )."
   ]
  },
  {
   "cell_type": "code",
   "execution_count": 3,
   "metadata": {},
   "outputs": [
    {
     "data": {
      "text/plain": [
       "True"
      ]
     },
     "execution_count": 3,
     "metadata": {},
     "output_type": "execute_result"
    }
   ],
   "source": [
    "## Truth table for AND operator\n",
    "True and True is True\n",
    "\n",
    "True and False is False\n",
    "\n",
    "False and True is False\n",
    "\n",
    "False and False is False\n",
    "\n",
    "## Truth Table for OR opeartor\n",
    "True or True is True\n",
    "\n",
    "True or False is True\n",
    "\n",
    "False or True is True\n",
    "\n",
    "False or False is False\n",
    "# Truth table for not operator\n",
    "not True is False\n",
    "\n",
    "not False is True"
   ]
  },
  {
   "cell_type": "markdown",
   "metadata": {},
   "source": [
    "4.What are the values of the following expressions?\n",
    "(5>4) and (3 == 5)\n",
    "not (5 > 4)\n",
    "(5 > 4) or (3 == 5)\n",
    "not ((5 >; 4) or (3 == 5))\n",
    "(True and True) and (True == False)\n",
    "(not False) or (not True)"
   ]
  },
  {
   "cell_type": "code",
   "execution_count": 4,
   "metadata": {},
   "outputs": [
    {
     "name": "stdout",
     "output_type": "stream",
     "text": [
      "False\n",
      "False\n",
      "True\n",
      "False\n",
      "False\n",
      "True\n"
     ]
    }
   ],
   "source": [
    "# solution\n",
    "a=(5>4) and (3 == 5) \n",
    "print(a)\n",
    "b=not (5 > 4)\n",
    "print(b)\n",
    "c=(5 > 4) or (3 == 5)\n",
    "print(c)\n",
    "d=not ((5 > 4) or (3 == 5)) \n",
    "print(d)\n",
    "e=(True and True) and (True == False) \n",
    "print(e)\n",
    "f=(not False) or (not True)\n",
    "print(f)"
   ]
  },
  {
   "cell_type": "code",
   "execution_count": null,
   "metadata": {},
   "outputs": [],
   "source": [
    "5. What are the six comparison operators?"
   ]
  },
  {
   "cell_type": "markdown",
   "metadata": {},
   "source": [
    "ANSWER-These are the six comparison operators .\n",
    "1. == returns True if two operands are equal, otherwise False.a == b\n",
    "2. != returns True if two operands are not equal, otherwise False.a != b\n",
    "3. > returns True if left operand is greater than the right operand, otherwise False.a > b\n",
    "4. < returns True if left operand is smaller than the right operand, otherwise False.a < b\n",
    "5. >= returns True if left operand is greater than or equal to the right operand, otherwise False.a > b\n",
    "6. <= returns True if left operand is smaller than or equal to the right operand, otherwise False.a < b"
   ]
  },
  {
   "cell_type": "code",
   "execution_count": 5,
   "metadata": {},
   "outputs": [
    {
     "name": "stdout",
     "output_type": "stream",
     "text": [
      "True\n",
      "True\n",
      "False\n",
      "False\n",
      "True\n"
     ]
    }
   ],
   "source": [
    "a= 100\n",
    "b=70\n",
    "c=60\n",
    "d=100\n",
    "e= (a==d)\n",
    "print(e)\n",
    "f= (a>b)\n",
    "print(f)\n",
    "g= (b<=c)\n",
    "print(g)\n",
    "h= (a!=d)\n",
    "print(h)\n",
    "i= (a>=d)\n",
    "print(i)"
   ]
  },
  {
   "cell_type": "markdown",
   "metadata": {},
   "source": [
    "6. How do you tell the difference between the equal to and assignment operators?Describe a\n",
    "condition and when you would use one."
   ]
  },
  {
   "cell_type": "markdown",
   "metadata": {},
   "source": [
    "== opeartor is used to compare to string values and returns a boolean value if values are same the True else false .whereas assignment operator is used to assign values to a variable .\n"
   ]
  },
  {
   "cell_type": "code",
   "execution_count": 6,
   "metadata": {},
   "outputs": [
    {
     "data": {
      "text/plain": [
       "False"
      ]
     },
     "execution_count": 6,
     "metadata": {},
     "output_type": "execute_result"
    }
   ],
   "source": [
    "str2='abc' ## here = is assignment operator\n",
    "str1='egf'\n",
    "str1==str2 ## here == is used as equal to operator"
   ]
  },
  {
   "cell_type": "code",
   "execution_count": 7,
   "metadata": {},
   "outputs": [
    {
     "name": "stdout",
     "output_type": "stream",
     "text": [
      "ham\n",
      "spam\n",
      "spam\n"
     ]
    }
   ],
   "source": [
    "##QUESTION 7  So as described below these are the 3 blocks in this code \n",
    "spam = 1\n",
    "if spam == 10:\n",
    "    print('eggs') ## 1st block\n",
    "    if spam > 5:\n",
    "         print('bacon') ## 2nd block\n",
    "else:\n",
    "    print('ham')\n",
    "    print('spam')\n",
    "    print('spam') ## 3rd block"
   ]
  },
  {
   "cell_type": "markdown",
   "metadata": {},
   "source": [
    "8. Write code that prints Hello if 1 is stored in spam, prints Howdy if 2 is stored in spam, and prints Greetings! if anything else is stored in spam"
   ]
  },
  {
   "cell_type": "code",
   "execution_count": 9,
   "metadata": {},
   "outputs": [
    {
     "name": "stdout",
     "output_type": "stream",
     "text": [
      "Enter the value of spam-:1\n",
      "Hello\n"
     ]
    }
   ],
   "source": [
    "spam = int(input(\"Enter the value of spam-:\"))\n",
    "if spam == 1:\n",
    "    print('Hello')\n",
    "elif spam == 2:\n",
    "    print('Howdy')\n",
    "else:\n",
    "    print('Greetings!')"
   ]
  },
  {
   "cell_type": "markdown",
   "metadata": {},
   "source": [
    "9.If your programme is stuck in an endless loop, what keys you’ll press?\n"
   ]
  },
  {
   "cell_type": "code",
   "execution_count": null,
   "metadata": {},
   "outputs": [],
   "source": [
    "## we will press Ctrl+C to come out of an while loop .the following code is for the same\n",
    "b = input(\"what is your name?\")\n",
    "a = 1\n",
    "\n",
    "while a==1:\n",
    "    print(\"Hi\", b)\n",
    "    "
   ]
  },
  {
   "cell_type": "markdown",
   "metadata": {},
   "source": [
    " 10.How can you tell the difference between break and continue?"
   ]
  },
  {
   "cell_type": "code",
   "execution_count": null,
   "metadata": {},
   "outputs": [],
   "source": [
    "#Example for break statment\n",
    "for val in \"string\":\n",
    "    if val == \"i\":\n",
    "        break\n",
    "    print(val)\n",
    "\n",
    "print(\"The end\")"
   ]
  },
  {
   "cell_type": "code",
   "execution_count": null,
   "metadata": {},
   "outputs": [],
   "source": [
    "#Example of continue statement\n",
    "for val in \"string\":\n",
    "    if val == \"i\":\n",
    "        continue\n",
    "    print(val)\n",
    "\n",
    "print(\"The end\")"
   ]
  },
  {
   "cell_type": "markdown",
   "metadata": {},
   "source": [
    "11. In a for loop, what is the difference between range(10), range(0, 10), and range(0, 10, 1)?"
   ]
  },
  {
   "cell_type": "code",
   "execution_count": 10,
   "metadata": {},
   "outputs": [
    {
     "name": "stdout",
     "output_type": "stream",
     "text": [
      "0\n",
      "1\n",
      "2\n",
      "3\n",
      "4\n",
      "5\n",
      "6\n",
      "7\n",
      "8\n",
      "9\n",
      "0\n",
      "1\n",
      "2\n",
      "3\n",
      "4\n",
      "5\n",
      "6\n",
      "7\n",
      "8\n",
      "9\n",
      "0\n",
      "1\n",
      "2\n",
      "3\n",
      "4\n",
      "5\n",
      "6\n",
      "7\n",
      "8\n",
      "9\n"
     ]
    }
   ],
   "source": [
    "for i in range(10):\n",
    "    print(i)\n",
    "    \n",
    "    \n",
    "for j in range(0,10):\n",
    "    print(j)\n",
    "    \n",
    "    \n",
    "for k in range(0,10,1):\n",
    "    print(k)\n",
    "# As we can see all the three for loops gives the same result but the difference arises as in the range() function\n",
    "# We can generate a sequence of numbers using range() function. range(10) will generate numbers from 0 to 9 (10 numbers).\n",
    "\n",
    "# We can also define the start, stop and step size as range(start,stop,step size). step size defaults to 1 if not provided.\n",
    "#start size defaults to 0 if not provided"
   ]
  },
  {
   "cell_type": "markdown",
   "metadata": {},
   "source": [
    "12. Write a short program that prints the numbers 1 to 10 using a for loop. Then write an equivalent program that prints the numbers 1 to 10 using a while loop."
   ]
  },
  {
   "cell_type": "code",
   "execution_count": null,
   "metadata": {},
   "outputs": [],
   "source": [
    "## with for loop\n",
    "for i in range(1,11):\n",
    "    print(i)\n",
    "\n",
    "## with while loop\n",
    "j= 1\n",
    "while(j<=10):\n",
    "    print(j)\n",
    "    j=j+1\n"
   ]
  },
  {
   "cell_type": "markdown",
   "metadata": {},
   "source": [
    "13. If you had a function named bacon() inside a module named spam, how would you call it after importing spam?\n"
   ]
  },
  {
   "cell_type": "markdown",
   "metadata": {},
   "source": [
    "The function can be called with spam.bacon()"
   ]
  }
 ],
 "metadata": {
  "kernelspec": {
   "display_name": "Python 3",
   "language": "python",
   "name": "python3"
  },
  "language_info": {
   "codemirror_mode": {
    "name": "ipython",
    "version": 3
   },
   "file_extension": ".py",
   "mimetype": "text/x-python",
   "name": "python",
   "nbconvert_exporter": "python",
   "pygments_lexer": "ipython3",
   "version": "3.7.6"
  }
 },
 "nbformat": 4,
 "nbformat_minor": 4
}
