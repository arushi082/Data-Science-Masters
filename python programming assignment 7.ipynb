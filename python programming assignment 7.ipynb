{
 "cells": [
  {
   "cell_type": "markdown",
   "metadata": {},
   "source": [
    "1. Write a Python Program to find sum of array?\n"
   ]
  },
  {
   "cell_type": "code",
   "execution_count": 16,
   "metadata": {},
   "outputs": [
    {
     "name": "stdout",
     "output_type": "stream",
     "text": [
      "16\n"
     ]
    }
   ],
   "source": [
    "def sum(arr):\n",
    "    total = 0\n",
    "    for i in arr:\n",
    "        total += i\n",
    "    return total\n",
    "print(sum([1, 2, 3, 3, 7]))\n"
   ]
  },
  {
   "cell_type": "markdown",
   "metadata": {},
   "source": [
    "2. Write a Python Program to find largest element in an array?\n"
   ]
  },
  {
   "cell_type": "code",
   "execution_count": 3,
   "metadata": {},
   "outputs": [
    {
     "name": "stdout",
     "output_type": "stream",
     "text": [
      "Length of array: 5\n",
      "2\n",
      "3\n",
      "77\n",
      "986\n",
      "567\n",
      "provided array: [2, 3, 77, 986, 567] \n",
      " and largest element in given array is: 986\n"
     ]
    }
   ],
   "source": [
    "array = []\n",
    "size = int(input(\"Length of array: \"))\n",
    "for i in range(size):\n",
    "    elements = int(input())\n",
    "    array.append(elements)\n",
    "    \n",
    "print(\"provided array: {} \\n and largest element in given array is: {}\".format(array,max(array)))"
   ]
  },
  {
   "cell_type": "markdown",
   "metadata": {},
   "source": [
    "3. Write a Python Program for array rotation?\n"
   ]
  },
  {
   "cell_type": "code",
   "execution_count": 4,
   "metadata": {},
   "outputs": [
    {
     "name": "stdout",
     "output_type": "stream",
     "text": [
      "[[ 0  1  2  3]\n",
      " [ 4  5  6  7]\n",
      " [ 8  9 10 11]]\n",
      "\n",
      "Rotated array : \n",
      " [[ 3  7 11]\n",
      " [ 2  6 10]\n",
      " [ 1  5  9]\n",
      " [ 0  4  8]]\n"
     ]
    }
   ],
   "source": [
    "import numpy as np  \n",
    "array = np.arange(12).reshape(3, 4)\n",
    "print(array)  \n",
    "print(\"\\nRotated array : \\n\", np.rot90(array))"
   ]
  },
  {
   "cell_type": "code",
   "execution_count": null,
   "metadata": {},
   "outputs": [],
   "source": [
    "4. Write a Python Program to Split the array and add the first part to the end?"
   ]
  },
  {
   "cell_type": "code",
   "execution_count": 5,
   "metadata": {},
   "outputs": [
    {
     "name": "stdout",
     "output_type": "stream",
     "text": [
      "Length of array: 3\n",
      "23\n",
      "56\n",
      "2\n",
      "[23, 56, 2]\n",
      "splitted part is:  [23]\n",
      "after spliting remaining array is:  [56, 2]\n",
      "Final Array:  [56, 2, 23]\n"
     ]
    }
   ],
   "source": [
    "array = []\n",
    "size = int(input(\"Length of array: \"))\n",
    "for i in range(size):\n",
    "    elements = int(input())\n",
    "    array.append(elements)\n",
    "print(array)\n",
    "\n",
    "mid = size//2\n",
    "\n",
    "split = array[:mid]\n",
    "print(\"splitted part is: \",split)\n",
    "\n",
    "array = array[mid:]\n",
    "print(\"after spliting remaining array is: \",array)\n",
    "\n",
    "array = array+split\n",
    "print(\"Final Array: \",array)"
   ]
  },
  {
   "cell_type": "code",
   "execution_count": null,
   "metadata": {},
   "outputs": [],
   "source": [
    "5. Write a Python Program to check if given array is Monotonic?"
   ]
  },
  {
   "cell_type": "code",
   "execution_count": 6,
   "metadata": {},
   "outputs": [
    {
     "data": {
      "text/plain": [
       "False"
      ]
     },
     "execution_count": 6,
     "metadata": {},
     "output_type": "execute_result"
    }
   ],
   "source": [
    "def isMonotonic(x):  \n",
    "    return (all(x[i] <= x[i + 1] for i in range(len(x) - 1)) or all(x[i] >= x[i + 1] for i in range(len(x) - 1)))\n",
    "isMonotonic([6,5,4,2,3])"
   ]
  }
 ],
 "metadata": {
  "kernelspec": {
   "display_name": "Python 3",
   "language": "python",
   "name": "python3"
  },
  "language_info": {
   "codemirror_mode": {
    "name": "ipython",
    "version": 3
   },
   "file_extension": ".py",
   "mimetype": "text/x-python",
   "name": "python",
   "nbconvert_exporter": "python",
   "pygments_lexer": "ipython3",
   "version": "3.7.6"
  }
 },
 "nbformat": 4,
 "nbformat_minor": 4
}
